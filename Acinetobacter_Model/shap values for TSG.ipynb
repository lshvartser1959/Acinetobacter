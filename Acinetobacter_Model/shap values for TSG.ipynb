{
 "cells": [
  {
   "cell_type": "code",
   "execution_count": 1,
   "metadata": {
    "ExecuteTime": {
     "end_time": "2022-06-29T08:09:06.561272Z",
     "start_time": "2022-06-29T08:09:04.816399Z"
    },
    "pycharm": {
     "name": "#%%\n"
    }
   },
   "outputs": [],
   "source": [
    "import pandas as pd"
   ]
  },
  {
   "cell_type": "markdown",
   "metadata": {
    "pycharm": {
     "name": "#%% md\n"
    }
   },
   "source": [
    "# Import data and run model"
   ]
  },
  {
   "cell_type": "code",
   "execution_count": 2,
   "metadata": {
    "ExecuteTime": {
     "end_time": "2022-06-29T08:09:06.576409Z",
     "start_time": "2022-06-29T08:09:06.561272Z"
    },
    "pycharm": {
     "name": "#%%\n"
    }
   },
   "outputs": [],
   "source": [
    "id_vars = ['subject_id','hadm_id','icustay_id']"
   ]
  },
  {
   "cell_type": "code",
   "execution_count": 3,
   "metadata": {
    "ExecuteTime": {
     "end_time": "2022-06-29T08:09:06.906412Z",
     "start_time": "2022-06-29T08:09:06.578405Z"
    },
    "pycharm": {
     "name": "#%%\n"
    }
   },
   "outputs": [],
   "source": [
    "static = pd.read_csv('static.csv').set_index(id_vars)"
   ]
  },
  {
   "cell_type": "code",
   "execution_count": 4,
   "metadata": {
    "ExecuteTime": {
     "end_time": "2022-06-29T08:09:06.952289Z",
     "start_time": "2022-06-29T08:09:06.909359Z"
    },
    "pycharm": {
     "name": "#%%\n"
    }
   },
   "outputs": [
    {
     "data": {
      "text/plain": [
       "33629"
      ]
     },
     "execution_count": 4,
     "metadata": {},
     "output_type": "execute_result"
    }
   ],
   "source": [
    "static.reset_index().subject_id.nunique()"
   ]
  },
  {
   "cell_type": "code",
   "execution_count": 5,
   "metadata": {
    "ExecuteTime": {
     "end_time": "2022-06-29T08:09:11.193590Z",
     "start_time": "2022-06-29T08:09:06.954239Z"
    },
    "pycharm": {
     "name": "#%%\n"
    }
   },
   "outputs": [],
   "source": [
    "X= pd.read_csv('X3').set_index(id_vars+['hours_in'])"
   ]
  },
  {
   "cell_type": "code",
   "execution_count": 6,
   "metadata": {
    "ExecuteTime": {
     "end_time": "2022-06-29T08:09:11.273051Z",
     "start_time": "2022-06-29T08:09:11.193590Z"
    },
    "pycharm": {
     "name": "#%%\n"
    }
   },
   "outputs": [],
   "source": [
    "X.drop('level_3',axis=1,inplace=True)"
   ]
  },
  {
   "cell_type": "code",
   "execution_count": 7,
   "metadata": {
    "ExecuteTime": {
     "end_time": "2022-06-29T08:09:11.619066Z",
     "start_time": "2022-06-29T08:09:11.274049Z"
    },
    "pycharm": {
     "name": "#%%\n"
    }
   },
   "outputs": [],
   "source": [
    "cols_to_add = ['past_admissions',\n",
    "       'past_admissions_icu', 'prev_surgeries', 'prev_surgeries_mv']\n",
    "\n",
    "X = X.join(static[cols_to_add])\n",
    "\n",
    "X['hours_since_ad']=X.index.get_level_values('hours_in')"
   ]
  },
  {
   "cell_type": "code",
   "execution_count": 8,
   "metadata": {
    "ExecuteTime": {
     "end_time": "2022-06-29T08:09:11.713717Z",
     "start_time": "2022-06-29T08:09:11.622088Z"
    },
    "pycharm": {
     "name": "#%%\n"
    }
   },
   "outputs": [],
   "source": [
    "Y= pd.read_csv('Y3').set_index(id_vars+['hours_in'])"
   ]
  },
  {
   "cell_type": "code",
   "execution_count": 9,
   "metadata": {
    "ExecuteTime": {
     "end_time": "2022-06-29T08:09:11.745687Z",
     "start_time": "2022-06-29T08:09:11.716709Z"
    },
    "pycharm": {
     "name": "#%%\n"
    }
   },
   "outputs": [],
   "source": [
    "Y = Y[~pd.isnull(X.iloc[:,0])]\n",
    "\n",
    "X = X[~pd.isnull(X.iloc[:,0])]"
   ]
  },
  {
   "cell_type": "code",
   "execution_count": 11,
   "metadata": {
    "ExecuteTime": {
     "end_time": "2022-06-29T08:09:11.998150Z",
     "start_time": "2022-06-29T08:09:11.985104Z"
    },
    "pycharm": {
     "name": "#%%\n"
    }
   },
   "outputs": [
    {
     "data": {
      "text/plain": [
       "((57764, 1), (57764, 362))"
      ]
     },
     "execution_count": 11,
     "metadata": {},
     "output_type": "execute_result"
    }
   ],
   "source": [
    "Y.shape,X.shape"
   ]
  },
  {
   "cell_type": "code",
   "execution_count": 12,
   "metadata": {
    "ExecuteTime": {
     "end_time": "2022-06-29T08:09:12.044052Z",
     "start_time": "2022-06-29T08:09:12.004130Z"
    },
    "pycharm": {
     "name": "#%%\n"
    }
   },
   "outputs": [],
   "source": [
    "Y = Y[X.hours_since_ad>12]"
   ]
  },
  {
   "cell_type": "code",
   "execution_count": 13,
   "metadata": {
    "ExecuteTime": {
     "end_time": "2022-06-29T08:09:12.139123Z",
     "start_time": "2022-06-29T08:09:12.046018Z"
    },
    "pycharm": {
     "name": "#%%\n"
    }
   },
   "outputs": [],
   "source": [
    "X = X[X.hours_since_ad>12]"
   ]
  },
  {
   "cell_type": "code",
   "execution_count": 14,
   "metadata": {
    "ExecuteTime": {
     "end_time": "2022-06-29T08:09:12.169549Z",
     "start_time": "2022-06-29T08:09:12.140801Z"
    },
    "pycharm": {
     "name": "#%%\n"
    }
   },
   "outputs": [
    {
     "data": {
      "text/plain": [
       "((48701, 1), 12442, 0    370\n",
       " dtype: int64, 177)"
      ]
     },
     "execution_count": 14,
     "metadata": {},
     "output_type": "execute_result"
    }
   ],
   "source": [
    "Y.shape,Y.reset_index().subject_id.nunique(),Y.sum(),Y[Y[\"0\"]==1].reset_index().subject_id.nunique()"
   ]
  },
  {
   "cell_type": "code",
   "execution_count": 15,
   "metadata": {
    "ExecuteTime": {
     "end_time": "2022-06-29T08:09:12.566449Z",
     "start_time": "2022-06-29T08:09:12.170780Z"
    },
    "pycharm": {
     "name": "#%%\n"
    }
   },
   "outputs": [],
   "source": [
    "static['intervention']=static.join(Y).reset_index().groupby(id_vars)['0'].max().fillna(0)"
   ]
  },
  {
   "cell_type": "code",
   "execution_count": 16,
   "metadata": {
    "ExecuteTime": {
     "end_time": "2022-06-29T08:09:12.597367Z",
     "start_time": "2022-06-29T08:09:12.568444Z"
    },
    "pycharm": {
     "name": "#%%\n"
    }
   },
   "outputs": [],
   "source": [
    "Y_for_split = Y.reset_index().groupby(['subject_id'])['0'].max().reset_index()"
   ]
  },
  {
   "cell_type": "code",
   "execution_count": 17,
   "metadata": {
    "ExecuteTime": {
     "end_time": "2022-06-29T08:09:16.007512Z",
     "start_time": "2022-06-29T08:09:12.599362Z"
    },
    "pycharm": {
     "name": "#%%\n"
    }
   },
   "outputs": [],
   "source": [
    "from sklearn.model_selection import train_test_split\n",
    "def train_test_val(Y_for_split,random_seed=42):\n",
    "    train_ids, rest_ids = train_test_split(Y_for_split, test_size=0.25,\n",
    "                                           random_state=random_seed,\n",
    "                                           stratify=Y_for_split['0'])\n",
    "    test_ids, val_ids = train_test_split(rest_ids, test_size=0.5,\n",
    "                                                random_state=random_seed,\n",
    "                                         stratify=rest_ids['0'])\n",
    "\n",
    "    return train_ids, val_ids, test_ids\n",
    "def tvt_split(x,y,train_ids, val_ids, test_ids):\n",
    "    x_train = x[x.index.get_level_values('subject_id').isin(train_ids['subject_id'])]\n",
    "    x_val = x[x.index.get_level_values('subject_id').isin(val_ids['subject_id'])]\n",
    "    x_test = x[x.index.get_level_values('subject_id').isin(test_ids['subject_id'])]\n",
    "    y_train = y[y.index.get_level_values('subject_id').isin(train_ids['subject_id'])]\n",
    "    y_val = y[y.index.get_level_values('subject_id').isin(val_ids['subject_id'])]\n",
    "    y_test = y[y.index.get_level_values('subject_id').isin(test_ids['subject_id'])]\n",
    "    return x_train,x_val,x_test,y_train,y_val,y_test\n",
    "\n"
   ]
  },
  {
   "cell_type": "code",
   "execution_count": 18,
   "metadata": {
    "ExecuteTime": {
     "end_time": "2022-06-29T08:09:16.273174Z",
     "start_time": "2022-06-29T08:09:16.008511Z"
    },
    "pycharm": {
     "name": "#%%\n"
    }
   },
   "outputs": [],
   "source": [
    "from xgboost import XGBClassifier\n",
    "def training_testing(x_train, x_val, x_test, y_train, y_val, y_test,\n",
    "                     hyp_search = False, grid_search=False, do_adapt=0,n_trials=5):\n",
    "    XGB_hyperparams_list = {\n",
    "        'eval_metric': 'auc',\n",
    "        'learning_rate': 0.06980199434376165,\n",
    "         'n_estimators': 505,\n",
    "         'max_depth': 3,\n",
    "         'scale_pos_weight': 2544.43352201207,\n",
    "         'min_child_weight': 2,\n",
    "         'gamma': 0.0015018451272972237}\n",
    "    model_name, model, hyperparams_list = ('XGB', XGBClassifier, XGB_hyperparams_list)\n",
    "    print('Initial test, with hardcoded hyperparameters')\n",
    "    M = model(**hyperparams_list)\n",
    "    M.fit(x_train, y_train)\n",
    "    y_pred = pd.DataFrame(M.predict_proba(x_test))\n",
    "    Y_test = pd.DataFrame(y_test)\n",
    "\n",
    "    from sklearn.metrics import roc_auc_score\n",
    "    test_score = roc_auc_score(Y_test, y_pred.iloc[:, 1])\n",
    "    print(test_score)\n",
    "    return M, M.feature_importances_, Y_test, y_pred,test_score\n"
   ]
  },
  {
   "cell_type": "code",
   "execution_count": 19,
   "metadata": {
    "ExecuteTime": {
     "end_time": "2022-06-29T08:14:11.361699Z",
     "start_time": "2022-06-29T08:09:16.275203Z"
    },
    "pycharm": {
     "name": "#%%\n"
    }
   },
   "outputs": [
    {
     "name": "stdout",
     "output_type": "stream",
     "text": [
      "Initial test, with hardcoded hyperparameters\n",
      "0.7250278323897956\n"
     ]
    }
   ],
   "source": [
    "train_ids, val_ids, test_ids = train_test_val(Y_for_split, random_seed=42)\n",
    "x_train, x_val, x_test, y_train, y_val, y_test = tvt_split(X, Y, train_ids, val_ids, test_ids)\n",
    "model, feature_impo, test, pred, test_score = training_testing(x_train, x_val, x_test, y_train.values.ravel(),\n",
    "                                                               y_val.values.ravel(), y_test.values.ravel(),\n",
    "                                                               grid_search=False, hyp_search=False)\n"
   ]
  },
  {
   "cell_type": "code",
   "execution_count": 20,
   "metadata": {
    "ExecuteTime": {
     "end_time": "2022-06-29T08:14:11.398507Z",
     "start_time": "2022-06-29T08:14:11.363660Z"
    },
    "pycharm": {
     "name": "#%%\n"
    }
   },
   "outputs": [
    {
     "data": {
      "text/html": [
       "<div>\n",
       "<style scoped>\n",
       "    .dataframe tbody tr th:only-of-type {\n",
       "        vertical-align: middle;\n",
       "    }\n",
       "\n",
       "    .dataframe tbody tr th {\n",
       "        vertical-align: top;\n",
       "    }\n",
       "\n",
       "    .dataframe thead th {\n",
       "        text-align: right;\n",
       "    }\n",
       "</style>\n",
       "<table border=\"1\" class=\"dataframe\">\n",
       "  <thead>\n",
       "    <tr style=\"text-align: right;\">\n",
       "      <th></th>\n",
       "      <th>train</th>\n",
       "      <th>test</th>\n",
       "    </tr>\n",
       "  </thead>\n",
       "  <tbody>\n",
       "    <tr>\n",
       "      <th>clean</th>\n",
       "      <td>36009</td>\n",
       "      <td>6031</td>\n",
       "    </tr>\n",
       "    <tr>\n",
       "      <th>postive</th>\n",
       "      <td>275</td>\n",
       "      <td>42</td>\n",
       "    </tr>\n",
       "  </tbody>\n",
       "</table>\n",
       "</div>"
      ],
      "text/plain": [
       "         train  test\n",
       "clean    36009  6031\n",
       "postive    275    42"
      ]
     },
     "execution_count": 20,
     "metadata": {},
     "output_type": "execute_result"
    }
   ],
   "source": [
    "df_stats = pd.concat([y_train['0'].value_counts(),y_test['0'].value_counts()],axis=1)\n",
    "df_stats.columns=['train','test']\n",
    "df_stats.index = ['clean','postive']\n",
    "df_stats"
   ]
  },
  {
   "cell_type": "markdown",
   "metadata": {
    "pycharm": {
     "name": "#%% md\n"
    }
   },
   "source": [
    "# Run shap explainer"
   ]
  },
  {
   "cell_type": "code",
   "execution_count": 21,
   "metadata": {
    "ExecuteTime": {
     "end_time": "2022-06-29T08:14:24.328480Z",
     "start_time": "2022-06-29T08:14:11.399505Z"
    },
    "pycharm": {
     "name": "#%%\n"
    }
   },
   "outputs": [],
   "source": [
    "import shap\n",
    "explainer = shap.TreeExplainer(model)\n"
   ]
  },
  {
   "cell_type": "code",
   "execution_count": 22,
   "metadata": {
    "ExecuteTime": {
     "end_time": "2022-06-29T08:14:42.612300Z",
     "start_time": "2022-06-29T08:14:24.331442Z"
    },
    "pycharm": {
     "name": "#%%\n"
    }
   },
   "outputs": [],
   "source": [
    "shap_values2 = explainer(x_train)\n"
   ]
  },
  {
   "cell_type": "code",
   "execution_count": 23,
   "metadata": {
    "ExecuteTime": {
     "end_time": "2022-06-29T08:14:42.659133Z",
     "start_time": "2022-06-29T08:14:42.614881Z"
    },
    "pycharm": {
     "name": "#%%\n"
    }
   },
   "outputs": [],
   "source": [
    "shap_full = abs(shap_values2.values).mean(axis=0)"
   ]
  },
  {
   "cell_type": "code",
   "execution_count": 24,
   "metadata": {
    "ExecuteTime": {
     "end_time": "2022-06-29T08:14:42.675261Z",
     "start_time": "2022-06-29T08:14:42.660984Z"
    },
    "pycharm": {
     "name": "#%%\n"
    }
   },
   "outputs": [],
   "source": [
    "df = pd.DataFrame({'fi':feature_impo,'shap':shap_full})\n",
    "df.index = X.columns"
   ]
  },
  {
   "cell_type": "markdown",
   "metadata": {
    "pycharm": {
     "name": "#%% md\n"
    }
   },
   "source": [
    "# organize by category and feature"
   ]
  },
  {
   "cell_type": "code",
   "execution_count": 25,
   "metadata": {
    "ExecuteTime": {
     "end_time": "2022-06-29T08:14:42.691069Z",
     "start_time": "2022-06-29T08:14:42.677376Z"
    },
    "pycharm": {
     "name": "#%%\n"
    }
   },
   "outputs": [],
   "source": [
    "def make_cat(x,a_list):\n",
    "    for i in a_list:\n",
    "        if i == x.split(\" \")[-1]:\n",
    "            return i\n",
    "a_list = ['mean','mask','time_since_measured']\n",
    "col_categories = []\n",
    "for col in X.columns.values:\n",
    "    col_categories.append(make_cat(col,a_list))\n",
    "df['category']=col_categories"
   ]
  },
  {
   "cell_type": "code",
   "execution_count": 26,
   "metadata": {
    "ExecuteTime": {
     "end_time": "2022-06-29T08:14:42.723000Z",
     "start_time": "2022-06-29T08:14:42.692051Z"
    },
    "pycharm": {
     "name": "#%%\n"
    }
   },
   "outputs": [
    {
     "data": {
      "text/html": [
       "<div>\n",
       "<style scoped>\n",
       "    .dataframe tbody tr th:only-of-type {\n",
       "        vertical-align: middle;\n",
       "    }\n",
       "\n",
       "    .dataframe tbody tr th {\n",
       "        vertical-align: top;\n",
       "    }\n",
       "\n",
       "    .dataframe thead th {\n",
       "        text-align: right;\n",
       "    }\n",
       "</style>\n",
       "<table border=\"1\" class=\"dataframe\">\n",
       "  <thead>\n",
       "    <tr style=\"text-align: right;\">\n",
       "      <th></th>\n",
       "      <th>fi</th>\n",
       "      <th>shap</th>\n",
       "    </tr>\n",
       "    <tr>\n",
       "      <th>category</th>\n",
       "      <th></th>\n",
       "      <th></th>\n",
       "    </tr>\n",
       "  </thead>\n",
       "  <tbody>\n",
       "    <tr>\n",
       "      <th>0</th>\n",
       "      <td>0.016980</td>\n",
       "      <td>0.760930</td>\n",
       "    </tr>\n",
       "    <tr>\n",
       "      <th>mask</th>\n",
       "      <td>0.102721</td>\n",
       "      <td>0.250562</td>\n",
       "    </tr>\n",
       "    <tr>\n",
       "      <th>mean</th>\n",
       "      <td>0.402441</td>\n",
       "      <td>4.596318</td>\n",
       "    </tr>\n",
       "    <tr>\n",
       "      <th>time_since_measured</th>\n",
       "      <td>0.477859</td>\n",
       "      <td>7.378749</td>\n",
       "    </tr>\n",
       "  </tbody>\n",
       "</table>\n",
       "</div>"
      ],
      "text/plain": [
       "                           fi      shap\n",
       "category                               \n",
       "0                    0.016980  0.760930\n",
       "mask                 0.102721  0.250562\n",
       "mean                 0.402441  4.596318\n",
       "time_since_measured  0.477859  7.378749"
      ]
     },
     "execution_count": 26,
     "metadata": {},
     "output_type": "execute_result"
    }
   ],
   "source": [
    "df.fillna(0).groupby('category').sum()"
   ]
  },
  {
   "cell_type": "code",
   "execution_count": 27,
   "metadata": {
    "ExecuteTime": {
     "end_time": "2022-06-29T08:14:42.754214Z",
     "start_time": "2022-06-29T08:14:42.725409Z"
    },
    "pycharm": {
     "name": "#%%\n"
    }
   },
   "outputs": [],
   "source": [
    "def rreplace(s, old, new, occurrence):\n",
    "    li = s.rsplit(old, occurrence)\n",
    "    return new.join(li)\n",
    "\n",
    "s = \"mean blood pressure mean\"\n",
    "rreplace(s,'mean',\"\",1)\n",
    "\n",
    "vars_list = []\n",
    "for n,i in enumerate(df.index.values):\n",
    "    if pd.isnull(df['category'][n]):\n",
    "        vars_list.append(i)\n",
    "    else:\n",
    "        vars_list.append(rreplace(i,df['category'][n],\"\",1))\n",
    "\n",
    "df['variable']=vars_list"
   ]
  },
  {
   "cell_type": "markdown",
   "metadata": {
    "pycharm": {
     "name": "#%% md\n"
    }
   },
   "source": [
    "# Top 10 features"
   ]
  },
  {
   "cell_type": "code",
   "execution_count": 28,
   "metadata": {
    "ExecuteTime": {
     "end_time": "2022-06-29T08:14:42.770259Z",
     "start_time": "2022-06-29T08:14:42.755880Z"
    },
    "pycharm": {
     "name": "#%%\n"
    }
   },
   "outputs": [],
   "source": [
    "df2 = df.groupby('variable').sum()"
   ]
  },
  {
   "cell_type": "code",
   "execution_count": 29,
   "metadata": {
    "ExecuteTime": {
     "end_time": "2022-06-29T08:14:42.786467Z",
     "start_time": "2022-06-29T08:14:42.772259Z"
    },
    "pycharm": {
     "name": "#%%\n"
    }
   },
   "outputs": [
    {
     "data": {
      "text/html": [
       "<div>\n",
       "<style scoped>\n",
       "    .dataframe tbody tr th:only-of-type {\n",
       "        vertical-align: middle;\n",
       "    }\n",
       "\n",
       "    .dataframe tbody tr th {\n",
       "        vertical-align: top;\n",
       "    }\n",
       "\n",
       "    .dataframe thead th {\n",
       "        text-align: right;\n",
       "    }\n",
       "</style>\n",
       "<table border=\"1\" class=\"dataframe\">\n",
       "  <thead>\n",
       "    <tr style=\"text-align: right;\">\n",
       "      <th></th>\n",
       "      <th>fi</th>\n",
       "      <th>shap</th>\n",
       "    </tr>\n",
       "    <tr>\n",
       "      <th>variable</th>\n",
       "      <th></th>\n",
       "      <th></th>\n",
       "    </tr>\n",
       "  </thead>\n",
       "  <tbody>\n",
       "    <tr>\n",
       "      <th>magnesium</th>\n",
       "      <td>0.021217</td>\n",
       "      <td>0.036873</td>\n",
       "    </tr>\n",
       "    <tr>\n",
       "      <th>lymphocytes ascites</th>\n",
       "      <td>0.021621</td>\n",
       "      <td>0.134174</td>\n",
       "    </tr>\n",
       "    <tr>\n",
       "      <th>urine output</th>\n",
       "      <td>0.025046</td>\n",
       "      <td>0.127918</td>\n",
       "    </tr>\n",
       "    <tr>\n",
       "      <th>central venous pressure</th>\n",
       "      <td>0.026764</td>\n",
       "      <td>0.177299</td>\n",
       "    </tr>\n",
       "    <tr>\n",
       "      <th>respiratory rate</th>\n",
       "      <td>0.027543</td>\n",
       "      <td>0.035109</td>\n",
       "    </tr>\n",
       "    <tr>\n",
       "      <th>phosphorous</th>\n",
       "      <td>0.028591</td>\n",
       "      <td>0.046095</td>\n",
       "    </tr>\n",
       "    <tr>\n",
       "      <th>asparate aminotransferase</th>\n",
       "      <td>0.029585</td>\n",
       "      <td>0.007440</td>\n",
       "    </tr>\n",
       "    <tr>\n",
       "      <th>partial pressure of carbon dioxide</th>\n",
       "      <td>0.031665</td>\n",
       "      <td>0.205408</td>\n",
       "    </tr>\n",
       "    <tr>\n",
       "      <th>glascow coma scale verbal response</th>\n",
       "      <td>0.032102</td>\n",
       "      <td>0.249184</td>\n",
       "    </tr>\n",
       "    <tr>\n",
       "      <th>oxygen saturation</th>\n",
       "      <td>0.038771</td>\n",
       "      <td>0.075462</td>\n",
       "    </tr>\n",
       "  </tbody>\n",
       "</table>\n",
       "</div>"
      ],
      "text/plain": [
       "                                           fi      shap\n",
       "variable                                               \n",
       "magnesium                            0.021217  0.036873\n",
       "lymphocytes ascites                  0.021621  0.134174\n",
       "urine output                         0.025046  0.127918\n",
       "central venous pressure              0.026764  0.177299\n",
       "respiratory rate                     0.027543  0.035109\n",
       "phosphorous                          0.028591  0.046095\n",
       "asparate aminotransferase            0.029585  0.007440\n",
       "partial pressure of carbon dioxide   0.031665  0.205408\n",
       "glascow coma scale verbal response   0.032102  0.249184\n",
       "oxygen saturation                    0.038771  0.075462"
      ]
     },
     "execution_count": 29,
     "metadata": {},
     "output_type": "execute_result"
    }
   ],
   "source": [
    "df2.sort_values('fi')[-10:]"
   ]
  },
  {
   "cell_type": "code",
   "execution_count": 30,
   "metadata": {
    "ExecuteTime": {
     "end_time": "2022-06-29T08:14:42.802429Z",
     "start_time": "2022-06-29T08:14:42.788467Z"
    },
    "pycharm": {
     "name": "#%%\n"
    }
   },
   "outputs": [
    {
     "data": {
      "text/html": [
       "<div>\n",
       "<style scoped>\n",
       "    .dataframe tbody tr th:only-of-type {\n",
       "        vertical-align: middle;\n",
       "    }\n",
       "\n",
       "    .dataframe tbody tr th {\n",
       "        vertical-align: top;\n",
       "    }\n",
       "\n",
       "    .dataframe thead th {\n",
       "        text-align: right;\n",
       "    }\n",
       "</style>\n",
       "<table border=\"1\" class=\"dataframe\">\n",
       "  <thead>\n",
       "    <tr style=\"text-align: right;\">\n",
       "      <th></th>\n",
       "      <th>fi</th>\n",
       "      <th>shap</th>\n",
       "    </tr>\n",
       "    <tr>\n",
       "      <th>variable</th>\n",
       "      <th></th>\n",
       "      <th></th>\n",
       "    </tr>\n",
       "  </thead>\n",
       "  <tbody>\n",
       "    <tr>\n",
       "      <th>lactate dehydrogenase</th>\n",
       "      <td>0.005119</td>\n",
       "      <td>0.242187</td>\n",
       "    </tr>\n",
       "    <tr>\n",
       "      <th>glascow coma scale verbal response</th>\n",
       "      <td>0.032102</td>\n",
       "      <td>0.249184</td>\n",
       "    </tr>\n",
       "    <tr>\n",
       "      <th>pulmonary artery pressure systolic</th>\n",
       "      <td>0.015284</td>\n",
       "      <td>0.250516</td>\n",
       "    </tr>\n",
       "    <tr>\n",
       "      <th>cpk</th>\n",
       "      <td>0.006908</td>\n",
       "      <td>0.271915</td>\n",
       "    </tr>\n",
       "    <tr>\n",
       "      <th>pulmonary capillary wedge pressure</th>\n",
       "      <td>0.015802</td>\n",
       "      <td>0.299327</td>\n",
       "    </tr>\n",
       "    <tr>\n",
       "      <th>mean airway pressure</th>\n",
       "      <td>0.011655</td>\n",
       "      <td>0.316249</td>\n",
       "    </tr>\n",
       "    <tr>\n",
       "      <th>rass</th>\n",
       "      <td>0.013788</td>\n",
       "      <td>0.340868</td>\n",
       "    </tr>\n",
       "    <tr>\n",
       "      <th>total protein urine</th>\n",
       "      <td>0.009831</td>\n",
       "      <td>0.347376</td>\n",
       "    </tr>\n",
       "    <tr>\n",
       "      <th>red blood cell count pleural</th>\n",
       "      <td>0.008842</td>\n",
       "      <td>0.354947</td>\n",
       "    </tr>\n",
       "    <tr>\n",
       "      <th>hours_since_ad</th>\n",
       "      <td>0.005778</td>\n",
       "      <td>0.367009</td>\n",
       "    </tr>\n",
       "  </tbody>\n",
       "</table>\n",
       "</div>"
      ],
      "text/plain": [
       "                                           fi      shap\n",
       "variable                                               \n",
       "lactate dehydrogenase                0.005119  0.242187\n",
       "glascow coma scale verbal response   0.032102  0.249184\n",
       "pulmonary artery pressure systolic   0.015284  0.250516\n",
       "cpk                                  0.006908  0.271915\n",
       "pulmonary capillary wedge pressure   0.015802  0.299327\n",
       "mean airway pressure                 0.011655  0.316249\n",
       "rass                                 0.013788  0.340868\n",
       "total protein urine                  0.009831  0.347376\n",
       "red blood cell count pleural         0.008842  0.354947\n",
       "hours_since_ad                       0.005778  0.367009"
      ]
     },
     "execution_count": 30,
     "metadata": {},
     "output_type": "execute_result"
    }
   ],
   "source": [
    "df2.sort_values('shap')[-10:]"
   ]
  },
  {
   "cell_type": "code",
   "execution_count": 31,
   "metadata": {
    "ExecuteTime": {
     "end_time": "2022-06-29T08:14:42.817791Z",
     "start_time": "2022-06-29T08:14:42.804461Z"
    },
    "pycharm": {
     "name": "#%%\n"
    }
   },
   "outputs": [],
   "source": [
    "df2.sort_values('fi').to_csv('feature_importance.csv')"
   ]
  },
  {
   "cell_type": "markdown",
   "metadata": {
    "pycharm": {
     "name": "#%% md\n"
    }
   },
   "source": [
    "# Top 10 sub-features"
   ]
  },
  {
   "cell_type": "code",
   "execution_count": 32,
   "metadata": {
    "ExecuteTime": {
     "end_time": "2022-06-29T08:14:42.848557Z",
     "start_time": "2022-06-29T08:14:42.819417Z"
    },
    "pycharm": {
     "name": "#%%\n"
    }
   },
   "outputs": [
    {
     "data": {
      "text/html": [
       "<div>\n",
       "<style scoped>\n",
       "    .dataframe tbody tr th:only-of-type {\n",
       "        vertical-align: middle;\n",
       "    }\n",
       "\n",
       "    .dataframe tbody tr th {\n",
       "        vertical-align: top;\n",
       "    }\n",
       "\n",
       "    .dataframe thead th {\n",
       "        text-align: right;\n",
       "    }\n",
       "</style>\n",
       "<table border=\"1\" class=\"dataframe\">\n",
       "  <thead>\n",
       "    <tr style=\"text-align: right;\">\n",
       "      <th></th>\n",
       "      <th>fi</th>\n",
       "      <th>shap</th>\n",
       "      <th>category</th>\n",
       "      <th>variable</th>\n",
       "    </tr>\n",
       "  </thead>\n",
       "  <tbody>\n",
       "    <tr>\n",
       "      <th>bilirubin mean</th>\n",
       "      <td>0.017173</td>\n",
       "      <td>0.151795</td>\n",
       "      <td>mean</td>\n",
       "      <td>bilirubin</td>\n",
       "    </tr>\n",
       "    <tr>\n",
       "      <th>urine output mean</th>\n",
       "      <td>0.018952</td>\n",
       "      <td>0.104082</td>\n",
       "      <td>mean</td>\n",
       "      <td>urine output</td>\n",
       "    </tr>\n",
       "    <tr>\n",
       "      <th>lymphocytes ascites mean</th>\n",
       "      <td>0.019405</td>\n",
       "      <td>0.008305</td>\n",
       "      <td>mean</td>\n",
       "      <td>lymphocytes ascites</td>\n",
       "    </tr>\n",
       "    <tr>\n",
       "      <th>magnesium time_since_measured</th>\n",
       "      <td>0.019775</td>\n",
       "      <td>0.007362</td>\n",
       "      <td>time_since_measured</td>\n",
       "      <td>magnesium</td>\n",
       "    </tr>\n",
       "    <tr>\n",
       "      <th>oxygen saturation time_since_measured</th>\n",
       "      <td>0.020517</td>\n",
       "      <td>0.015661</td>\n",
       "      <td>time_since_measured</td>\n",
       "      <td>oxygen saturation</td>\n",
       "    </tr>\n",
       "    <tr>\n",
       "      <th>central venous pressure mean</th>\n",
       "      <td>0.020576</td>\n",
       "      <td>0.064056</td>\n",
       "      <td>mean</td>\n",
       "      <td>central venous pressure</td>\n",
       "    </tr>\n",
       "    <tr>\n",
       "      <th>phosphorous time_since_measured</th>\n",
       "      <td>0.021877</td>\n",
       "      <td>0.006524</td>\n",
       "      <td>time_since_measured</td>\n",
       "      <td>phosphorous</td>\n",
       "    </tr>\n",
       "    <tr>\n",
       "      <th>glascow coma scale verbal response time_since_measured</th>\n",
       "      <td>0.023398</td>\n",
       "      <td>0.011220</td>\n",
       "      <td>time_since_measured</td>\n",
       "      <td>glascow coma scale verbal response</td>\n",
       "    </tr>\n",
       "    <tr>\n",
       "      <th>respiratory rate mask</th>\n",
       "      <td>0.026534</td>\n",
       "      <td>0.011127</td>\n",
       "      <td>mask</td>\n",
       "      <td>respiratory rate</td>\n",
       "    </tr>\n",
       "    <tr>\n",
       "      <th>asparate aminotransferase time_since_measured</th>\n",
       "      <td>0.029578</td>\n",
       "      <td>0.007266</td>\n",
       "      <td>time_since_measured</td>\n",
       "      <td>asparate aminotransferase</td>\n",
       "    </tr>\n",
       "  </tbody>\n",
       "</table>\n",
       "</div>"
      ],
      "text/plain": [
       "                                                          fi      shap  \\\n",
       "bilirubin mean                                      0.017173  0.151795   \n",
       "urine output mean                                   0.018952  0.104082   \n",
       "lymphocytes ascites mean                            0.019405  0.008305   \n",
       "magnesium time_since_measured                       0.019775  0.007362   \n",
       "oxygen saturation time_since_measured               0.020517  0.015661   \n",
       "central venous pressure mean                        0.020576  0.064056   \n",
       "phosphorous time_since_measured                     0.021877  0.006524   \n",
       "glascow coma scale verbal response time_since_m...  0.023398  0.011220   \n",
       "respiratory rate mask                               0.026534  0.011127   \n",
       "asparate aminotransferase time_since_measured       0.029578  0.007266   \n",
       "\n",
       "                                                               category  \\\n",
       "bilirubin mean                                                     mean   \n",
       "urine output mean                                                  mean   \n",
       "lymphocytes ascites mean                                           mean   \n",
       "magnesium time_since_measured                       time_since_measured   \n",
       "oxygen saturation time_since_measured               time_since_measured   \n",
       "central venous pressure mean                                       mean   \n",
       "phosphorous time_since_measured                     time_since_measured   \n",
       "glascow coma scale verbal response time_since_m...  time_since_measured   \n",
       "respiratory rate mask                                              mask   \n",
       "asparate aminotransferase time_since_measured       time_since_measured   \n",
       "\n",
       "                                                                               variable  \n",
       "bilirubin mean                                                               bilirubin   \n",
       "urine output mean                                                         urine output   \n",
       "lymphocytes ascites mean                                           lymphocytes ascites   \n",
       "magnesium time_since_measured                                                magnesium   \n",
       "oxygen saturation time_since_measured                                oxygen saturation   \n",
       "central venous pressure mean                                   central venous pressure   \n",
       "phosphorous time_since_measured                                            phosphorous   \n",
       "glascow coma scale verbal response time_since_m...  glascow coma scale verbal response   \n",
       "respiratory rate mask                                                 respiratory rate   \n",
       "asparate aminotransferase time_since_measured                asparate aminotransferase   "
      ]
     },
     "execution_count": 32,
     "metadata": {},
     "output_type": "execute_result"
    }
   ],
   "source": [
    "df.sort_values('fi')[-10:]"
   ]
  },
  {
   "cell_type": "code",
   "execution_count": 33,
   "metadata": {
    "ExecuteTime": {
     "end_time": "2022-06-29T08:14:42.879314Z",
     "start_time": "2022-06-29T08:14:42.850300Z"
    },
    "pycharm": {
     "name": "#%%\n"
    }
   },
   "outputs": [
    {
     "data": {
      "text/html": [
       "<div>\n",
       "<style scoped>\n",
       "    .dataframe tbody tr th:only-of-type {\n",
       "        vertical-align: middle;\n",
       "    }\n",
       "\n",
       "    .dataframe tbody tr th {\n",
       "        vertical-align: top;\n",
       "    }\n",
       "\n",
       "    .dataframe thead th {\n",
       "        text-align: right;\n",
       "    }\n",
       "</style>\n",
       "<table border=\"1\" class=\"dataframe\">\n",
       "  <thead>\n",
       "    <tr style=\"text-align: right;\">\n",
       "      <th></th>\n",
       "      <th>fi</th>\n",
       "      <th>shap</th>\n",
       "      <th>category</th>\n",
       "      <th>variable</th>\n",
       "    </tr>\n",
       "  </thead>\n",
       "  <tbody>\n",
       "    <tr>\n",
       "      <th>rass time_since_measured</th>\n",
       "      <td>0.004333</td>\n",
       "      <td>0.212088</td>\n",
       "      <td>time_since_measured</td>\n",
       "      <td>rass</td>\n",
       "    </tr>\n",
       "    <tr>\n",
       "      <th>prev_surgeries</th>\n",
       "      <td>0.003646</td>\n",
       "      <td>0.224750</td>\n",
       "      <td>None</td>\n",
       "      <td>prev_surgeries</td>\n",
       "    </tr>\n",
       "    <tr>\n",
       "      <th>creatinine body fluid time_since_measured</th>\n",
       "      <td>0.005224</td>\n",
       "      <td>0.226513</td>\n",
       "      <td>time_since_measured</td>\n",
       "      <td>creatinine body fluid</td>\n",
       "    </tr>\n",
       "    <tr>\n",
       "      <th>plateau pressure mean</th>\n",
       "      <td>0.006332</td>\n",
       "      <td>0.227808</td>\n",
       "      <td>mean</td>\n",
       "      <td>plateau pressure</td>\n",
       "    </tr>\n",
       "    <tr>\n",
       "      <th>glascow coma scale verbal response mean</th>\n",
       "      <td>0.008703</td>\n",
       "      <td>0.237964</td>\n",
       "      <td>mean</td>\n",
       "      <td>glascow coma scale verbal response</td>\n",
       "    </tr>\n",
       "    <tr>\n",
       "      <th>mean airway pressure time_since_measured</th>\n",
       "      <td>0.005722</td>\n",
       "      <td>0.278090</td>\n",
       "      <td>time_since_measured</td>\n",
       "      <td>mean airway pressure</td>\n",
       "    </tr>\n",
       "    <tr>\n",
       "      <th>pulmonary capillary wedge pressure time_since_measured</th>\n",
       "      <td>0.015802</td>\n",
       "      <td>0.299327</td>\n",
       "      <td>time_since_measured</td>\n",
       "      <td>pulmonary capillary wedge pressure</td>\n",
       "    </tr>\n",
       "    <tr>\n",
       "      <th>total protein urine time_since_measured</th>\n",
       "      <td>0.006015</td>\n",
       "      <td>0.334596</td>\n",
       "      <td>time_since_measured</td>\n",
       "      <td>total protein urine</td>\n",
       "    </tr>\n",
       "    <tr>\n",
       "      <th>red blood cell count pleural time_since_measured</th>\n",
       "      <td>0.005355</td>\n",
       "      <td>0.335445</td>\n",
       "      <td>time_since_measured</td>\n",
       "      <td>red blood cell count pleural</td>\n",
       "    </tr>\n",
       "    <tr>\n",
       "      <th>hours_since_ad</th>\n",
       "      <td>0.005778</td>\n",
       "      <td>0.367009</td>\n",
       "      <td>None</td>\n",
       "      <td>hours_since_ad</td>\n",
       "    </tr>\n",
       "  </tbody>\n",
       "</table>\n",
       "</div>"
      ],
      "text/plain": [
       "                                                          fi      shap  \\\n",
       "rass time_since_measured                            0.004333  0.212088   \n",
       "prev_surgeries                                      0.003646  0.224750   \n",
       "creatinine body fluid time_since_measured           0.005224  0.226513   \n",
       "plateau pressure mean                               0.006332  0.227808   \n",
       "glascow coma scale verbal response mean             0.008703  0.237964   \n",
       "mean airway pressure time_since_measured            0.005722  0.278090   \n",
       "pulmonary capillary wedge pressure time_since_m...  0.015802  0.299327   \n",
       "total protein urine time_since_measured             0.006015  0.334596   \n",
       "red blood cell count pleural time_since_measured    0.005355  0.335445   \n",
       "hours_since_ad                                      0.005778  0.367009   \n",
       "\n",
       "                                                               category  \\\n",
       "rass time_since_measured                            time_since_measured   \n",
       "prev_surgeries                                                     None   \n",
       "creatinine body fluid time_since_measured           time_since_measured   \n",
       "plateau pressure mean                                              mean   \n",
       "glascow coma scale verbal response mean                            mean   \n",
       "mean airway pressure time_since_measured            time_since_measured   \n",
       "pulmonary capillary wedge pressure time_since_m...  time_since_measured   \n",
       "total protein urine time_since_measured             time_since_measured   \n",
       "red blood cell count pleural time_since_measured    time_since_measured   \n",
       "hours_since_ad                                                     None   \n",
       "\n",
       "                                                                               variable  \n",
       "rass time_since_measured                                                          rass   \n",
       "prev_surgeries                                                           prev_surgeries  \n",
       "creatinine body fluid time_since_measured                        creatinine body fluid   \n",
       "plateau pressure mean                                                 plateau pressure   \n",
       "glascow coma scale verbal response mean             glascow coma scale verbal response   \n",
       "mean airway pressure time_since_measured                          mean airway pressure   \n",
       "pulmonary capillary wedge pressure time_since_m...  pulmonary capillary wedge pressure   \n",
       "total protein urine time_since_measured                            total protein urine   \n",
       "red blood cell count pleural time_since_measured          red blood cell count pleural   \n",
       "hours_since_ad                                                           hours_since_ad  "
      ]
     },
     "execution_count": 33,
     "metadata": {},
     "output_type": "execute_result"
    }
   ],
   "source": [
    "df.sort_values('shap')[-10:]"
   ]
  },
  {
   "cell_type": "code",
   "execution_count": 35,
   "metadata": {
    "ExecuteTime": {
     "end_time": "2022-06-29T08:14:47.187896Z",
     "start_time": "2022-06-29T08:14:47.173907Z"
    },
    "pycharm": {
     "name": "#%%\n"
    }
   },
   "outputs": [],
   "source": [
    "from sklearn.metrics import confusion_matrix,roc_curve"
   ]
  },
  {
   "cell_type": "code",
   "execution_count": 36,
   "metadata": {
    "ExecuteTime": {
     "end_time": "2022-06-29T08:14:47.977287Z",
     "start_time": "2022-06-29T08:14:47.188868Z"
    },
    "pycharm": {
     "name": "#%%\n"
    }
   },
   "outputs": [],
   "source": [
    "predictions = model.predict(x_test)"
   ]
  },
  {
   "cell_type": "code",
   "execution_count": 37,
   "metadata": {
    "ExecuteTime": {
     "end_time": "2022-06-29T08:14:47.993248Z",
     "start_time": "2022-06-29T08:14:47.979284Z"
    },
    "pycharm": {
     "name": "#%%\n"
    }
   },
   "outputs": [
    {
     "data": {
      "text/plain": [
       "array([[5626,  405],\n",
       "       [  35,    7]], dtype=int64)"
      ]
     },
     "execution_count": 37,
     "metadata": {},
     "output_type": "execute_result"
    }
   ],
   "source": [
    "confusion_matrix(y_test,predictions)"
   ]
  },
  {
   "cell_type": "code",
   "execution_count": 39,
   "metadata": {
    "ExecuteTime": {
     "end_time": "2022-06-29T08:14:48.080809Z",
     "start_time": "2022-06-29T08:14:48.057422Z"
    },
    "pycharm": {
     "name": "#%%\n"
    }
   },
   "outputs": [],
   "source": [
    "fpr, tpr, _  = roc_curve(y_test,pred.loc[:,1],)"
   ]
  },
  {
   "cell_type": "code",
   "execution_count": 40,
   "metadata": {
    "ExecuteTime": {
     "end_time": "2022-06-29T08:14:48.271300Z",
     "start_time": "2022-06-29T08:14:48.082840Z"
    },
    "pycharm": {
     "name": "#%%\n"
    }
   },
   "outputs": [
    {
     "data": {
      "image/png": "[encoded data removed]",
      "text/plain": [
       "<Figure size 432x288 with 1 Axes>"
      ]
     },
     "metadata": {
      "needs_background": "light"
     },
     "output_type": "display_data"
    }
   ],
   "source": [
    "import matplotlib.pyplot as plt\n",
    "plt.figure()\n",
    "lw = 2\n",
    "plt.plot(\n",
    "    fpr,\n",
    "    tpr,\n",
    "    color=\"darkorange\",\n",
    "    lw=lw,\n",
    "    label=\"ROC curve (area = %0.2f)\" % test_score,\n",
    ")\n",
    "plt.plot([0, 1], [0, 1], color=\"navy\", lw=lw, linestyle=\"--\")\n",
    "plt.xlim([0.0, 1.0])\n",
    "plt.ylim([0.0, 1.05])\n",
    "plt.xlabel(\"False Positive Rate\")\n",
    "plt.ylabel(\"True Positive Rate\")\n",
    "plt.title(\"Receiver operating characteristic \")\n",
    "plt.legend(loc=\"lower right\")\n",
    "plt.show()"
   ]
  }
 ],
 "metadata": {
  "kernelspec": {
   "display_name": "Python 3",
   "language": "python",
   "name": "python3"
  },
  "language_info": {
   "codemirror_mode": {
    "name": "ipython",
    "version": 3
   },
   "file_extension": ".py",
   "mimetype": "text/x-python",
   "name": "python",
   "nbconvert_exporter": "python",
   "pygments_lexer": "ipython3",
   "version": "3.7.4"
  },
  "toc": {
   "base_numbering": 1,
   "nav_menu": {},
   "number_sections": true,
   "sideBar": true,
   "skip_h1_title": false,
   "title_cell": "Table of Contents",
   "title_sidebar": "Contents",
   "toc_cell": false,
   "toc_position": {},
   "toc_section_display": true,
   "toc_window_display": false
  }
 },
 "nbformat": 4,
 "nbformat_minor": 2
}